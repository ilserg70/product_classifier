{
 "cells": [
  {
   "cell_type": "markdown",
   "metadata": {},
   "source": [
    "#### Product Classifier"
   ]
  },
  {
   "cell_type": "code",
   "execution_count": 72,
   "metadata": {},
   "outputs": [
    {
     "name": "stdout",
     "output_type": "stream",
     "text": [
      "0.21.3\n"
     ]
    }
   ],
   "source": [
    "import numpy as np\n",
    "import pandas as pd\n",
    "import sklearn\n",
    "print(sklearn.__version__)"
   ]
  },
  {
   "cell_type": "code",
   "execution_count": 4,
   "metadata": {},
   "outputs": [],
   "source": [
    "file_categories = \"data/categories.xlsx\"\n",
    "file_labeled = \"data/training_data.xlsx\"\n",
    "file_unlabeled = \"data/data_to_classify.xlsx\""
   ]
  },
  {
   "cell_type": "code",
   "execution_count": 20,
   "metadata": {},
   "outputs": [],
   "source": [
    "df_categories = pd.read_excel(\n",
    "    io=file_categories,\n",
    "    sheet_name=0,\n",
    "    encoding='utf-8',\n",
    "    header=None,  # 0 - first row is header\n",
    "    names=['category'],  # we will not change column names\n",
    "    index_col=None,  # take all columns\n",
    "    skiprows=None, nrows=None, skipfooter=0,\n",
    "    squeeze=False, dtype=None, engine=None, converters=None,\n",
    "    true_values=None, false_values=None, na_values=None, keep_default_na=True,\n",
    "    verbose=False, parse_dates=False,\n",
    "    # date_parser=None\n",
    "    thousands=\",\", comment=None, convert_float=True, mangle_dupe_cols=True\n",
    ")"
   ]
  },
  {
   "cell_type": "code",
   "execution_count": 25,
   "metadata": {},
   "outputs": [
    {
     "name": "stdout",
     "output_type": "stream",
     "text": [
      "columns: ['category']\n",
      "row count: 63\n"
     ]
    },
    {
     "data": {
      "text/html": [
       "<div>\n",
       "<style scoped>\n",
       "    .dataframe tbody tr th:only-of-type {\n",
       "        vertical-align: middle;\n",
       "    }\n",
       "\n",
       "    .dataframe tbody tr th {\n",
       "        vertical-align: top;\n",
       "    }\n",
       "\n",
       "    .dataframe thead th {\n",
       "        text-align: right;\n",
       "    }\n",
       "</style>\n",
       "<table border=\"1\" class=\"dataframe\">\n",
       "  <thead>\n",
       "    <tr style=\"text-align: right;\">\n",
       "      <th></th>\n",
       "      <th>category</th>\n",
       "    </tr>\n",
       "  </thead>\n",
       "  <tbody>\n",
       "    <tr>\n",
       "      <th>0</th>\n",
       "      <td>Headphones</td>\n",
       "    </tr>\n",
       "    <tr>\n",
       "      <th>1</th>\n",
       "      <td>Cables</td>\n",
       "    </tr>\n",
       "    <tr>\n",
       "      <th>2</th>\n",
       "      <td>Security &amp; Surveillance</td>\n",
       "    </tr>\n",
       "    <tr>\n",
       "      <th>3</th>\n",
       "      <td>Streaming Media</td>\n",
       "    </tr>\n",
       "    <tr>\n",
       "      <th>4</th>\n",
       "      <td>Television Accessories</td>\n",
       "    </tr>\n",
       "  </tbody>\n",
       "</table>\n",
       "</div>"
      ],
      "text/plain": [
       "                  category\n",
       "0               Headphones\n",
       "1                   Cables\n",
       "2  Security & Surveillance\n",
       "3          Streaming Media\n",
       "4   Television Accessories"
      ]
     },
     "execution_count": 25,
     "metadata": {},
     "output_type": "execute_result"
    }
   ],
   "source": [
    "print(f\"columns: {df_categories.columns.tolist()}\")\n",
    "print(f\"row count: {len(df_categories)}\")\n",
    "df_categories.head()"
   ]
  },
  {
   "cell_type": "code",
   "execution_count": 32,
   "metadata": {},
   "outputs": [],
   "source": [
    "df = pd.read_excel(\n",
    "    io=file_labeled,\n",
    "    sheet_name=0,\n",
    "    encoding='utf-8',\n",
    "    header=0,  # 0 - first row is header\n",
    "    names=None,  # we will not change column names\n",
    "    index_col=None,  # take all columns\n",
    "    skiprows=None, nrows=None, skipfooter=0,\n",
    "    squeeze=False, dtype=None, engine=None, converters=None,\n",
    "    true_values=None, false_values=None, na_values=None, keep_default_na=True,\n",
    "    verbose=False, parse_dates=False,\n",
    "    # date_parser=None\n",
    "    thousands=\",\", comment=None, convert_float=True, mangle_dupe_cols=True\n",
    ")"
   ]
  },
  {
   "cell_type": "code",
   "execution_count": 33,
   "metadata": {},
   "outputs": [
    {
     "name": "stdout",
     "output_type": "stream",
     "text": [
      "columns: ['ASIN', 'CategoryName', 'BrandName', 'Title', 'ImageUrl']\n",
      "row count: 6034\n"
     ]
    },
    {
     "data": {
      "text/html": [
       "<div>\n",
       "<style scoped>\n",
       "    .dataframe tbody tr th:only-of-type {\n",
       "        vertical-align: middle;\n",
       "    }\n",
       "\n",
       "    .dataframe tbody tr th {\n",
       "        vertical-align: top;\n",
       "    }\n",
       "\n",
       "    .dataframe thead th {\n",
       "        text-align: right;\n",
       "    }\n",
       "</style>\n",
       "<table border=\"1\" class=\"dataframe\">\n",
       "  <thead>\n",
       "    <tr style=\"text-align: right;\">\n",
       "      <th></th>\n",
       "      <th>ASIN</th>\n",
       "      <th>CategoryName</th>\n",
       "      <th>BrandName</th>\n",
       "      <th>Title</th>\n",
       "      <th>ImageUrl</th>\n",
       "    </tr>\n",
       "  </thead>\n",
       "  <tbody>\n",
       "    <tr>\n",
       "      <th>0</th>\n",
       "      <td>B014FCC4NO</td>\n",
       "      <td>Headphones</td>\n",
       "      <td>01 Audio</td>\n",
       "      <td>Bluetooth Headphones, Wireless Earbuds Earphon...</td>\n",
       "      <td>http://ecx.images-amazon.com/images/I/31KpP1yO...</td>\n",
       "    </tr>\n",
       "    <tr>\n",
       "      <th>1</th>\n",
       "      <td>B00RE20CVO</td>\n",
       "      <td>Cables</td>\n",
       "      <td>1byone</td>\n",
       "      <td>1Byone Lightning to USB Cable 3.28ft (1M) for...</td>\n",
       "      <td>http://ecx.images-amazon.com/images/I/31cldYZD...</td>\n",
       "    </tr>\n",
       "    <tr>\n",
       "      <th>2</th>\n",
       "      <td>B00HEZV6AC</td>\n",
       "      <td>Security &amp; Surveillance</td>\n",
       "      <td>1byone</td>\n",
       "      <td>1byone? 7 Inch Colorful LCD Screen Video Doorb...</td>\n",
       "      <td>http://ecx.images-amazon.com/images/I/41by3Sjc...</td>\n",
       "    </tr>\n",
       "    <tr>\n",
       "      <th>3</th>\n",
       "      <td>B00ZWOU5R2</td>\n",
       "      <td>Streaming Media</td>\n",
       "      <td>1byone</td>\n",
       "      <td>1byone 5GHz Wireless HDMI Streaming Media Play...</td>\n",
       "      <td>https://images-na.ssl-images-amazon.com/images...</td>\n",
       "    </tr>\n",
       "    <tr>\n",
       "      <th>4</th>\n",
       "      <td>B00RFLXE0A</td>\n",
       "      <td>Television Accessories</td>\n",
       "      <td>1byone</td>\n",
       "      <td>1byone Shiny Antenna Super Thin Amplified HDTV...</td>\n",
       "      <td>http://ecx.images-amazon.com/images/I/314oPMta...</td>\n",
       "    </tr>\n",
       "  </tbody>\n",
       "</table>\n",
       "</div>"
      ],
      "text/plain": [
       "         ASIN             CategoryName BrandName  \\\n",
       "0  B014FCC4NO               Headphones  01 Audio   \n",
       "1  B00RE20CVO                   Cables    1byone   \n",
       "2  B00HEZV6AC  Security & Surveillance    1byone   \n",
       "3  B00ZWOU5R2          Streaming Media    1byone   \n",
       "4  B00RFLXE0A   Television Accessories    1byone   \n",
       "\n",
       "                                               Title  \\\n",
       "0  Bluetooth Headphones, Wireless Earbuds Earphon...   \n",
       "1   1Byone Lightning to USB Cable 3.28ft (1M) for...   \n",
       "2  1byone? 7 Inch Colorful LCD Screen Video Doorb...   \n",
       "3  1byone 5GHz Wireless HDMI Streaming Media Play...   \n",
       "4  1byone Shiny Antenna Super Thin Amplified HDTV...   \n",
       "\n",
       "                                            ImageUrl  \n",
       "0  http://ecx.images-amazon.com/images/I/31KpP1yO...  \n",
       "1  http://ecx.images-amazon.com/images/I/31cldYZD...  \n",
       "2  http://ecx.images-amazon.com/images/I/41by3Sjc...  \n",
       "3  https://images-na.ssl-images-amazon.com/images...  \n",
       "4  http://ecx.images-amazon.com/images/I/314oPMta...  "
      ]
     },
     "execution_count": 33,
     "metadata": {},
     "output_type": "execute_result"
    }
   ],
   "source": [
    "print(f\"columns: {df.columns.tolist()}\")\n",
    "print(f\"row count: {len(df)}\")\n",
    "df.head()"
   ]
  },
  {
   "cell_type": "code",
   "execution_count": 201,
   "metadata": {},
   "outputs": [],
   "source": [
    "col = df[\"Title\"]"
   ]
  },
  {
   "cell_type": "code",
   "execution_count": 207,
   "metadata": {},
   "outputs": [
    {
     "name": "stdout",
     "output_type": "stream",
     "text": [
      "['and', 'document', 'first', 'is', 'one', 'second', 'the', 'third', 'this']\n",
      "(4, 9)\n"
     ]
    }
   ],
   "source": [
    "from sklearn.feature_extraction.text import TfidfVectorizer\n",
    "vectorizer = TfidfVectorizer()\n",
    "corpus = [\n",
    "    'This is the first document.',\n",
    "    'This document is the second document.',\n",
    "    'And this is the third one.',\n",
    "    'Is this the first document?',\n",
    "]\n",
    "X = vectorizer.fit_transform(corpus)\n",
    "print(vectorizer.get_feature_names())\n",
    "print(X.shape)"
   ]
  },
  {
   "cell_type": "code",
   "execution_count": 209,
   "metadata": {},
   "outputs": [
    {
     "name": "stdout",
     "output_type": "stream",
     "text": [
      "  (0, 1)\t0.46979138557992045\n",
      "  (0, 2)\t0.5802858236844359\n",
      "  (0, 6)\t0.38408524091481483\n",
      "  (0, 3)\t0.38408524091481483\n",
      "  (0, 8)\t0.38408524091481483\n",
      "  (1, 5)\t0.5386476208856763\n",
      "  (1, 1)\t0.6876235979836938\n",
      "  (1, 6)\t0.281088674033753\n",
      "  (1, 3)\t0.281088674033753\n",
      "  (1, 8)\t0.281088674033753\n",
      "  (2, 4)\t0.511848512707169\n",
      "  (2, 7)\t0.511848512707169\n",
      "  (2, 0)\t0.511848512707169\n",
      "  (2, 6)\t0.267103787642168\n",
      "  (2, 3)\t0.267103787642168\n",
      "  (2, 8)\t0.267103787642168\n",
      "  (3, 1)\t0.46979138557992045\n",
      "  (3, 2)\t0.5802858236844359\n",
      "  (3, 6)\t0.38408524091481483\n",
      "  (3, 3)\t0.38408524091481483\n",
      "  (3, 8)\t0.38408524091481483\n"
     ]
    }
   ],
   "source": [
    "print(X)"
   ]
  },
  {
   "cell_type": "code",
   "execution_count": 212,
   "metadata": {},
   "outputs": [
    {
     "data": {
      "text/plain": [
       "True"
      ]
     },
     "execution_count": 212,
     "metadata": {},
     "output_type": "execute_result"
    }
   ],
   "source": [
    "2 <= 3 == 3"
   ]
  },
  {
   "cell_type": "code",
   "execution_count": 213,
   "metadata": {},
   "outputs": [
    {
     "name": "stdout",
     "output_type": "stream",
     "text": [
      "x=5, y=9\n",
      "x=9, y=5\n"
     ]
    }
   ],
   "source": [
    "x = 5\n",
    "y = 9\n",
    "print(f\"x={x}, y={y}\")\n",
    "x, y = y, x\n",
    "print(f\"x={x}, y={y}\")"
   ]
  },
  {
   "cell_type": "code",
   "execution_count": null,
   "metadata": {},
   "outputs": [],
   "source": []
  }
 ],
 "metadata": {
  "kernelspec": {
   "display_name": "Python 3",
   "language": "python",
   "name": "python3"
  },
  "language_info": {
   "codemirror_mode": {
    "name": "ipython",
    "version": 3
   },
   "file_extension": ".py",
   "mimetype": "text/x-python",
   "name": "python",
   "nbconvert_exporter": "python",
   "pygments_lexer": "ipython3",
   "version": "3.7.4"
  }
 },
 "nbformat": 4,
 "nbformat_minor": 2
}
